{
 "cells": [
  {
   "cell_type": "markdown",
   "id": "f093e0df",
   "metadata": {
    "papermill": {
     "duration": 0.003719,
     "end_time": "2024-07-24T11:25:53.304859",
     "exception": false,
     "start_time": "2024-07-24T11:25:53.301140",
     "status": "completed"
    },
    "tags": []
   },
   "source": [
    "**[Machine Learning Course Home Page](https://www.kaggle.com/learn/machine-learning)**\n",
    "\n",
    "---\n"
   ]
  },
  {
   "cell_type": "markdown",
   "id": "7d24faea",
   "metadata": {
    "papermill": {
     "duration": 0.003007,
     "end_time": "2024-07-24T11:25:53.311436",
     "exception": false,
     "start_time": "2024-07-24T11:25:53.308429",
     "status": "completed"
    },
    "tags": []
   },
   "source": [
    "This exercise will test your ability to read a data file and understand statistics about the data.\n",
    "\n",
    "In later exercises, you will apply techniques to filter the data, build a machine learning model, and iteratively improve your model.\n",
    "\n",
    "The course examples use data from Melbourne. To ensure you can apply these techniques on your own, you will have to apply them to a new dataset (with house prices from Iowa).\n",
    "\n",
    "The exercises use a \"notebook\" coding environment.  In case you are unfamiliar with notebooks, we have a [90-second intro video](https://www.youtube.com/watch?v=4C2qMnaIKL4).\n",
    "\n",
    "# Exercises\n",
    "\n",
    "Run the following cell to set up code-checking, which will verify your work as you go."
   ]
  },
  {
   "cell_type": "code",
   "execution_count": 1,
   "id": "3bb877da",
   "metadata": {
    "execution": {
     "iopub.execute_input": "2024-07-24T11:25:53.320200Z",
     "iopub.status.busy": "2024-07-24T11:25:53.319812Z",
     "iopub.status.idle": "2024-07-24T11:25:54.314360Z",
     "shell.execute_reply": "2024-07-24T11:25:54.313314Z"
    },
    "papermill": {
     "duration": 1.001773,
     "end_time": "2024-07-24T11:25:54.316843",
     "exception": false,
     "start_time": "2024-07-24T11:25:53.315070",
     "status": "completed"
    },
    "tags": []
   },
   "outputs": [
    {
     "name": "stdout",
     "output_type": "stream",
     "text": [
      "Setup Complete\n"
     ]
    }
   ],
   "source": [
    "# Set up code checking\n",
    "from learntools.core import binder\n",
    "binder.bind(globals())\n",
    "from learntools.machine_learning.ex2 import *\n",
    "print(\"Setup Complete\")"
   ]
  },
  {
   "cell_type": "markdown",
   "id": "0eb56294",
   "metadata": {
    "papermill": {
     "duration": 0.003278,
     "end_time": "2024-07-24T11:25:54.323875",
     "exception": false,
     "start_time": "2024-07-24T11:25:54.320597",
     "status": "completed"
    },
    "tags": []
   },
   "source": [
    "## Step 1: Loading Data\n",
    "Read the Iowa data file into a Pandas DataFrame called `home_data`."
   ]
  },
  {
   "cell_type": "code",
   "execution_count": 2,
   "id": "97a954f7",
   "metadata": {
    "execution": {
     "iopub.execute_input": "2024-07-24T11:25:54.332401Z",
     "iopub.status.busy": "2024-07-24T11:25:54.331871Z",
     "iopub.status.idle": "2024-07-24T11:25:54.386960Z",
     "shell.execute_reply": "2024-07-24T11:25:54.385658Z"
    },
    "papermill": {
     "duration": 0.062525,
     "end_time": "2024-07-24T11:25:54.389778",
     "exception": false,
     "start_time": "2024-07-24T11:25:54.327253",
     "status": "completed"
    },
    "tags": []
   },
   "outputs": [
    {
     "data": {
      "application/javascript": [
       "parent.postMessage({\"jupyterEvent\": \"custom.exercise_interaction\", \"data\": {\"outcomeType\": 1, \"valueTowardsCompletion\": 0.5, \"interactionType\": 1, \"questionType\": 1, \"questionId\": \"1_LoadHomeData\", \"learnToolsVersion\": \"0.3.4\", \"failureMessage\": \"\", \"exceptionClass\": \"\", \"trace\": \"\"}}, \"*\")"
      ],
      "text/plain": [
       "<IPython.core.display.Javascript object>"
      ]
     },
     "metadata": {},
     "output_type": "display_data"
    },
    {
     "data": {
      "text/markdown": [
       "<span style=\"color:#33cc33\">Correct</span>"
      ],
      "text/plain": [
       "Correct"
      ]
     },
     "metadata": {},
     "output_type": "display_data"
    }
   ],
   "source": [
    "import pandas as pd\n",
    "\n",
    "# Path of the file to read\n",
    "iowa_file_path = '../input/home-data-for-ml-course/train.csv'\n",
    "\n",
    "# Fill in the line below to read the file into a variable home_data\n",
    "home_data = pd.read_csv(iowa_file_path)\n",
    "\n",
    "\n",
    "# Call line below with no argument to check that you've loaded the data correctly\n",
    "step_1.check()"
   ]
  },
  {
   "cell_type": "code",
   "execution_count": 3,
   "id": "75bcd85a",
   "metadata": {
    "execution": {
     "iopub.execute_input": "2024-07-24T11:25:54.399507Z",
     "iopub.status.busy": "2024-07-24T11:25:54.399079Z",
     "iopub.status.idle": "2024-07-24T11:25:54.403556Z",
     "shell.execute_reply": "2024-07-24T11:25:54.402442Z"
    },
    "papermill": {
     "duration": 0.012462,
     "end_time": "2024-07-24T11:25:54.406142",
     "exception": false,
     "start_time": "2024-07-24T11:25:54.393680",
     "status": "completed"
    },
    "tags": []
   },
   "outputs": [],
   "source": [
    "# Lines below will give you a hint or solution code\n",
    "#step_1.hint()\n",
    "#step_1.solution()"
   ]
  },
  {
   "cell_type": "markdown",
   "id": "9a7b9ff1",
   "metadata": {
    "papermill": {
     "duration": 0.00355,
     "end_time": "2024-07-24T11:25:54.414319",
     "exception": false,
     "start_time": "2024-07-24T11:25:54.410769",
     "status": "completed"
    },
    "tags": []
   },
   "source": [
    "## Step 2: Review The Data\n",
    "Use the command you learned to view summary statistics of the data. Then fill in variables to answer the following questions"
   ]
  },
  {
   "cell_type": "code",
   "execution_count": 4,
   "id": "23a02f09",
   "metadata": {
    "execution": {
     "iopub.execute_input": "2024-07-24T11:25:54.423413Z",
     "iopub.status.busy": "2024-07-24T11:25:54.423013Z",
     "iopub.status.idle": "2024-07-24T11:25:54.429472Z",
     "shell.execute_reply": "2024-07-24T11:25:54.428378Z"
    },
    "papermill": {
     "duration": 0.013776,
     "end_time": "2024-07-24T11:25:54.431843",
     "exception": false,
     "start_time": "2024-07-24T11:25:54.418067",
     "status": "completed"
    },
    "tags": []
   },
   "outputs": [
    {
     "data": {
      "text/markdown": [],
      "text/plain": [
       "<learntools.core.constants.PlaceholderValue at 0x7fc6ecf0c610>"
      ]
     },
     "execution_count": 4,
     "metadata": {},
     "output_type": "execute_result"
    }
   ],
   "source": [
    "# Print summary statistics in next line\n",
    "____"
   ]
  },
  {
   "cell_type": "code",
   "execution_count": 5,
   "id": "e0825aad",
   "metadata": {
    "execution": {
     "iopub.execute_input": "2024-07-24T11:25:54.441364Z",
     "iopub.status.busy": "2024-07-24T11:25:54.440959Z",
     "iopub.status.idle": "2024-07-24T11:25:54.450564Z",
     "shell.execute_reply": "2024-07-24T11:25:54.449244Z"
    },
    "papermill": {
     "duration": 0.017605,
     "end_time": "2024-07-24T11:25:54.453405",
     "exception": false,
     "start_time": "2024-07-24T11:25:54.435800",
     "status": "completed"
    },
    "tags": []
   },
   "outputs": [
    {
     "data": {
      "application/javascript": [
       "parent.postMessage({\"jupyterEvent\": \"custom.exercise_interaction\", \"data\": {\"outcomeType\": 1, \"valueTowardsCompletion\": 0.5, \"interactionType\": 1, \"questionType\": 1, \"questionId\": \"2_HomeDescription\", \"learnToolsVersion\": \"0.3.4\", \"failureMessage\": \"\", \"exceptionClass\": \"\", \"trace\": \"\"}}, \"*\")"
      ],
      "text/plain": [
       "<IPython.core.display.Javascript object>"
      ]
     },
     "metadata": {},
     "output_type": "display_data"
    },
    {
     "data": {
      "text/markdown": [
       "<span style=\"color:#33cc33\">Correct</span>"
      ],
      "text/plain": [
       "Correct"
      ]
     },
     "metadata": {},
     "output_type": "display_data"
    }
   ],
   "source": [
    "# What is the average lot size (rounded to nearest integer)?\n",
    "avg_lot_size = 10517\n",
    "\n",
    "# As of today, how old is the newest home (current year - the date in which it was built)\n",
    "newest_home_age = 14\n",
    "\n",
    "# Checks your answers\n",
    "step_2.check()"
   ]
  },
  {
   "cell_type": "code",
   "execution_count": 6,
   "id": "cfa9499b",
   "metadata": {
    "execution": {
     "iopub.execute_input": "2024-07-24T11:25:54.465610Z",
     "iopub.status.busy": "2024-07-24T11:25:54.464886Z",
     "iopub.status.idle": "2024-07-24T11:25:54.471210Z",
     "shell.execute_reply": "2024-07-24T11:25:54.469738Z"
    },
    "papermill": {
     "duration": 0.015457,
     "end_time": "2024-07-24T11:25:54.473743",
     "exception": false,
     "start_time": "2024-07-24T11:25:54.458286",
     "status": "completed"
    },
    "tags": []
   },
   "outputs": [],
   "source": [
    "#step_2.hint()\n",
    "#step_2.solution()"
   ]
  },
  {
   "cell_type": "markdown",
   "id": "ab30c56c",
   "metadata": {
    "papermill": {
     "duration": 0.005185,
     "end_time": "2024-07-24T11:25:54.483170",
     "exception": false,
     "start_time": "2024-07-24T11:25:54.477985",
     "status": "completed"
    },
    "tags": []
   },
   "source": [
    "## Think About Your Data\n",
    "\n",
    "The newest house in your data isn't that new.  A few potential explanations for this:\n",
    "1. They haven't built new houses where this data was collected.\n",
    "1. The data was collected a long time ago. Houses built after the data publication wouldn't show up.\n",
    "\n",
    "If the reason is explanation #1 above, does that affect your trust in the model you build with this data? What about if it is reason #2?\n",
    "\n",
    "How could you dig into the data to see which explanation is more plausible?\n",
    "\n",
    "Check out this **[discussion thread](https://www.kaggle.com/learn-forum/60581)** to see what others think or to add your ideas.\n",
    "\n",
    "# Keep Going\n",
    "\n",
    "You are ready for **[Your First Machine Learning Model](https://www.kaggle.com/dansbecker/your-first-machine-learning-model).**\n"
   ]
  },
  {
   "cell_type": "markdown",
   "id": "7132f5e6",
   "metadata": {
    "papermill": {
     "duration": 0.004005,
     "end_time": "2024-07-24T11:25:54.493756",
     "exception": false,
     "start_time": "2024-07-24T11:25:54.489751",
     "status": "completed"
    },
    "tags": []
   },
   "source": [
    "---\n",
    "**[Machine Learning Course Home Page](https://www.kaggle.com/learn/machine-learning)**\n",
    "\n"
   ]
  }
 ],
 "metadata": {
  "kaggle": {
   "accelerator": "none",
   "dataSources": [
    {
     "datasetId": 2709,
     "sourceId": 38454,
     "sourceType": "datasetVersion"
    },
    {
     "datasetId": 108980,
     "sourceId": 260251,
     "sourceType": "datasetVersion"
    }
   ],
   "isGpuEnabled": false,
   "isInternetEnabled": false,
   "language": "python",
   "sourceType": "notebook"
  },
  "kernelspec": {
   "display_name": "Python 3",
   "language": "python",
   "name": "python3"
  },
  "language_info": {
   "codemirror_mode": {
    "name": "ipython",
    "version": 3
   },
   "file_extension": ".py",
   "mimetype": "text/x-python",
   "name": "python",
   "nbconvert_exporter": "python",
   "pygments_lexer": "ipython3",
   "version": "3.10.13"
  },
  "papermill": {
   "default_parameters": {},
   "duration": 4.687794,
   "end_time": "2024-07-24T11:25:55.021283",
   "environment_variables": {},
   "exception": null,
   "input_path": "__notebook__.ipynb",
   "output_path": "__notebook__.ipynb",
   "parameters": {},
   "start_time": "2024-07-24T11:25:50.333489",
   "version": "2.5.0"
  }
 },
 "nbformat": 4,
 "nbformat_minor": 5
}
